{
 "cells": [
  {
   "cell_type": "markdown",
   "metadata": {},
   "source": [
    "# Preliminary Analysis\n",
    "The main goal is to predict whether the patient got a stroke based on the attributes such as age,heart disease,smoking status,etc."
   ]
  },
  {
   "cell_type": "code",
   "execution_count": 1,
   "metadata": {},
   "outputs": [],
   "source": [
    "import numpy as np\n",
    "import pandas as pd\n",
    "import matplotlib.pyplot as plt\n",
    "%matplotlib inline\n",
    "import seaborn as sns; sns.set()\n",
    "sns.set(style=\"ticks\")\n",
    "import seaborn as sns\n",
    "from sklearn.model_selection import train_test_split\n",
    "from sklearn.preprocessing import StandardScaler,OneHotEncoder \n",
    "from sklearn.impute import SimpleImputer\n",
    "from sklearn.decomposition import PCA\n",
    "from sklearn.pipeline import Pipeline\n",
    "from sklearn.metrics import accuracy_score"
   ]
  },
  {
   "cell_type": "code",
   "execution_count": 2,
   "metadata": {},
   "outputs": [],
   "source": [
    "data=pd.read_csv(\"C:/Users/Sneha/Desktop/DATA/Stroke.csv\")"
   ]
  },
  {
   "cell_type": "markdown",
   "metadata": {},
   "source": [
    "Let's take a peek at the top few row of the dataset"
   ]
  },
  {
   "cell_type": "code",
   "execution_count": 3,
   "metadata": {},
   "outputs": [
    {
     "data": {
      "text/html": [
       "<div>\n",
       "<style scoped>\n",
       "    .dataframe tbody tr th:only-of-type {\n",
       "        vertical-align: middle;\n",
       "    }\n",
       "\n",
       "    .dataframe tbody tr th {\n",
       "        vertical-align: top;\n",
       "    }\n",
       "\n",
       "    .dataframe thead th {\n",
       "        text-align: right;\n",
       "    }\n",
       "</style>\n",
       "<table border=\"1\" class=\"dataframe\">\n",
       "  <thead>\n",
       "    <tr style=\"text-align: right;\">\n",
       "      <th></th>\n",
       "      <th>id</th>\n",
       "      <th>gender</th>\n",
       "      <th>age</th>\n",
       "      <th>hypertension</th>\n",
       "      <th>heart_disease</th>\n",
       "      <th>ever_married</th>\n",
       "      <th>work_type</th>\n",
       "      <th>Residence_type</th>\n",
       "      <th>avg_glucose_level</th>\n",
       "      <th>bmi</th>\n",
       "      <th>smoking_status</th>\n",
       "      <th>stroke</th>\n",
       "    </tr>\n",
       "  </thead>\n",
       "  <tbody>\n",
       "    <tr>\n",
       "      <th>0</th>\n",
       "      <td>30669</td>\n",
       "      <td>Male</td>\n",
       "      <td>3.0</td>\n",
       "      <td>0</td>\n",
       "      <td>0</td>\n",
       "      <td>No</td>\n",
       "      <td>children</td>\n",
       "      <td>Rural</td>\n",
       "      <td>95.12</td>\n",
       "      <td>18.0</td>\n",
       "      <td>NaN</td>\n",
       "      <td>0</td>\n",
       "    </tr>\n",
       "    <tr>\n",
       "      <th>1</th>\n",
       "      <td>30468</td>\n",
       "      <td>Male</td>\n",
       "      <td>58.0</td>\n",
       "      <td>1</td>\n",
       "      <td>0</td>\n",
       "      <td>Yes</td>\n",
       "      <td>Private</td>\n",
       "      <td>Urban</td>\n",
       "      <td>87.96</td>\n",
       "      <td>39.2</td>\n",
       "      <td>never smoked</td>\n",
       "      <td>0</td>\n",
       "    </tr>\n",
       "    <tr>\n",
       "      <th>2</th>\n",
       "      <td>16523</td>\n",
       "      <td>Female</td>\n",
       "      <td>8.0</td>\n",
       "      <td>0</td>\n",
       "      <td>0</td>\n",
       "      <td>No</td>\n",
       "      <td>Private</td>\n",
       "      <td>Urban</td>\n",
       "      <td>110.89</td>\n",
       "      <td>17.6</td>\n",
       "      <td>NaN</td>\n",
       "      <td>0</td>\n",
       "    </tr>\n",
       "    <tr>\n",
       "      <th>3</th>\n",
       "      <td>56543</td>\n",
       "      <td>Female</td>\n",
       "      <td>70.0</td>\n",
       "      <td>0</td>\n",
       "      <td>0</td>\n",
       "      <td>Yes</td>\n",
       "      <td>Private</td>\n",
       "      <td>Rural</td>\n",
       "      <td>69.04</td>\n",
       "      <td>35.9</td>\n",
       "      <td>formerly smoked</td>\n",
       "      <td>0</td>\n",
       "    </tr>\n",
       "    <tr>\n",
       "      <th>4</th>\n",
       "      <td>46136</td>\n",
       "      <td>Male</td>\n",
       "      <td>14.0</td>\n",
       "      <td>0</td>\n",
       "      <td>0</td>\n",
       "      <td>No</td>\n",
       "      <td>Never_worked</td>\n",
       "      <td>Rural</td>\n",
       "      <td>161.28</td>\n",
       "      <td>19.1</td>\n",
       "      <td>NaN</td>\n",
       "      <td>0</td>\n",
       "    </tr>\n",
       "  </tbody>\n",
       "</table>\n",
       "</div>"
      ],
      "text/plain": [
       "      id  gender   age  hypertension  heart_disease ever_married  \\\n",
       "0  30669    Male   3.0             0              0           No   \n",
       "1  30468    Male  58.0             1              0          Yes   \n",
       "2  16523  Female   8.0             0              0           No   \n",
       "3  56543  Female  70.0             0              0          Yes   \n",
       "4  46136    Male  14.0             0              0           No   \n",
       "\n",
       "      work_type Residence_type  avg_glucose_level   bmi   smoking_status  \\\n",
       "0      children          Rural              95.12  18.0              NaN   \n",
       "1       Private          Urban              87.96  39.2     never smoked   \n",
       "2       Private          Urban             110.89  17.6              NaN   \n",
       "3       Private          Rural              69.04  35.9  formerly smoked   \n",
       "4  Never_worked          Rural             161.28  19.1              NaN   \n",
       "\n",
       "   stroke  \n",
       "0       0  \n",
       "1       0  \n",
       "2       0  \n",
       "3       0  \n",
       "4       0  "
      ]
     },
     "execution_count": 3,
     "metadata": {},
     "output_type": "execute_result"
    }
   ],
   "source": [
    "data.head()"
   ]
  },
  {
   "cell_type": "code",
   "execution_count": 4,
   "metadata": {},
   "outputs": [
    {
     "name": "stdout",
     "output_type": "stream",
     "text": [
      "<class 'pandas.core.frame.DataFrame'>\n",
      "RangeIndex: 43400 entries, 0 to 43399\n",
      "Data columns (total 12 columns):\n",
      "id                   43400 non-null int64\n",
      "gender               43400 non-null object\n",
      "age                  43400 non-null float64\n",
      "hypertension         43400 non-null int64\n",
      "heart_disease        43400 non-null int64\n",
      "ever_married         43400 non-null object\n",
      "work_type            43400 non-null object\n",
      "Residence_type       43400 non-null object\n",
      "avg_glucose_level    43400 non-null float64\n",
      "bmi                  41938 non-null float64\n",
      "smoking_status       30108 non-null object\n",
      "stroke               43400 non-null int64\n",
      "dtypes: float64(3), int64(4), object(5)\n",
      "memory usage: 4.0+ MB\n"
     ]
    }
   ],
   "source": [
    "data.info()"
   ]
  },
  {
   "cell_type": "markdown",
   "metadata": {},
   "source": [
    "Let's get more information to see how much data is missing"
   ]
  },
  {
   "cell_type": "code",
   "execution_count": 5,
   "metadata": {},
   "outputs": [
    {
     "data": {
      "text/plain": [
       "id                       0\n",
       "gender                   0\n",
       "age                      0\n",
       "hypertension             0\n",
       "heart_disease            0\n",
       "ever_married             0\n",
       "work_type                0\n",
       "Residence_type           0\n",
       "avg_glucose_level        0\n",
       "bmi                   1462\n",
       "smoking_status       13292\n",
       "stroke                   0\n",
       "dtype: int64"
      ]
     },
     "execution_count": 5,
     "metadata": {},
     "output_type": "execute_result"
    }
   ],
   "source": [
    "data.isnull().sum()"
   ]
  },
  {
   "cell_type": "code",
   "execution_count": 6,
   "metadata": {},
   "outputs": [
    {
     "data": {
      "text/plain": [
       "id                    0.000000\n",
       "gender                0.000000\n",
       "age                   0.000000\n",
       "hypertension          0.000000\n",
       "heart_disease         0.000000\n",
       "ever_married          0.000000\n",
       "work_type             0.000000\n",
       "Residence_type        0.000000\n",
       "avg_glucose_level     0.000000\n",
       "bmi                   3.368664\n",
       "smoking_status       30.626728\n",
       "stroke                0.000000\n",
       "dtype: float64"
      ]
     },
     "execution_count": 6,
     "metadata": {},
     "output_type": "execute_result"
    }
   ],
   "source": [
    "data.isnull().sum()/len(data)*100"
   ]
  },
  {
   "cell_type": "code",
   "execution_count": 7,
   "metadata": {},
   "outputs": [
    {
     "data": {
      "text/plain": [
       "array([nan, 'never smoked', 'formerly smoked', 'smokes'], dtype=object)"
      ]
     },
     "execution_count": 7,
     "metadata": {},
     "output_type": "execute_result"
    }
   ],
   "source": [
    "data.smoking_status.unique()"
   ]
  },
  {
   "cell_type": "code",
   "execution_count": 8,
   "metadata": {},
   "outputs": [],
   "source": [
    "# Filling missing values with 'Unknown'\n",
    "data['smoking_status'].fillna('Unknown',inplace=True)"
   ]
  },
  {
   "cell_type": "code",
   "execution_count": 9,
   "metadata": {},
   "outputs": [
    {
     "name": "stdout",
     "output_type": "stream",
     "text": [
      "(43400, 11)\n",
      "(43400,)\n"
     ]
    }
   ],
   "source": [
    "#Splitting the dataset into Features & Target\n",
    "data_feat=data.drop('stroke',axis=1)\n",
    "data_labels=data['stroke']\n",
    "print(data_feat.shape)\n",
    "print(data_labels.shape)"
   ]
  },
  {
   "cell_type": "markdown",
   "metadata": {},
   "source": [
    "# Data preparation pipeline"
   ]
  },
  {
   "cell_type": "markdown",
   "metadata": {},
   "source": [
    "Build the data preparation pipeline\n",
    "\n",
    ". DataFrameSelector: select specific attributes from data frame\n",
    "\n",
    ". Imputer for numerical variables(by replacing the missing value with the 'median' value of the particular col.)\n",
    "\n",
    ". Scalar(Scaled the num col. using StandardScaler)\n",
    "\n",
    ". Encoding Categorical columns using OneHotEncoder"
   ]
  },
  {
   "cell_type": "code",
   "execution_count": 10,
   "metadata": {},
   "outputs": [],
   "source": [
    "# Data Frame Selector\n",
    "\n",
    "from sklearn.base import BaseEstimator, TransformerMixin\n",
    "\n",
    "# A class to select numerical or categorical columns \n",
    "# since Scikit-Learn doesn't handle DataFrames \n",
    "class DataFrameSelector(BaseEstimator, TransformerMixin):\n",
    "    def __init__(self, attribute_names):\n",
    "        self.attribute_names = attribute_names\n",
    "    def fit(self, X, y=None):\n",
    "        return self\n",
    "    def transform(self,X):\n",
    "        return X[self.attribute_names].values"
   ]
  },
  {
   "cell_type": "code",
   "execution_count": 11,
   "metadata": {},
   "outputs": [],
   "source": [
    "from sklearn.pipeline import FeatureUnion\n",
    "\n",
    "cat_attributes=['gender','ever_married','work_type','Residence_type','smoking_status']\n",
    "num_attributes=['age','avg_glucose_level','bmi']\n",
    "\n",
    "num_pipeline = Pipeline([\n",
    "    ('selector',DataFrameSelector(num_attributes)),\n",
    "    ('imputer',SimpleImputer(strategy='median')),\n",
    "    ('std_scaler',StandardScaler()),\n",
    "])\n",
    "\n",
    "cat_pipeline = Pipeline([\n",
    "    ('selector',DataFrameSelector(cat_attributes)),\n",
    "    ('1_hot_enc',OneHotEncoder()),\n",
    "])\n",
    "\n",
    "# Combine the two pipelines\n",
    "full_pipeline= FeatureUnion(transformer_list=[\n",
    "    ('num_pipeline',num_pipeline),\n",
    "    ('cat_pipeline',cat_pipeline),\n",
    "])\n",
    "\n",
    "data_prepared = full_pipeline.fit_transform(data_feat).toarray()\n",
    "data_prepared=pd.DataFrame(data_prepared)"
   ]
  },
  {
   "cell_type": "code",
   "execution_count": 12,
   "metadata": {},
   "outputs": [
    {
     "data": {
      "text/plain": [
       "0     0.0\n",
       "1     0.0\n",
       "2     0.0\n",
       "3     0.0\n",
       "4     0.0\n",
       "5     0.0\n",
       "6     0.0\n",
       "7     0.0\n",
       "8     0.0\n",
       "9     0.0\n",
       "10    0.0\n",
       "11    0.0\n",
       "12    0.0\n",
       "13    0.0\n",
       "14    0.0\n",
       "15    0.0\n",
       "16    0.0\n",
       "17    0.0\n",
       "18    0.0\n",
       "dtype: float64"
      ]
     },
     "execution_count": 12,
     "metadata": {},
     "output_type": "execute_result"
    }
   ],
   "source": [
    "data_prepared.isnull().sum()/len(data)*100"
   ]
  },
  {
   "cell_type": "code",
   "execution_count": 13,
   "metadata": {},
   "outputs": [
    {
     "data": {
      "text/plain": [
       "(43400, 19)"
      ]
     },
     "execution_count": 13,
     "metadata": {},
     "output_type": "execute_result"
    }
   ],
   "source": [
    "data_prepared.shape"
   ]
  },
  {
   "cell_type": "markdown",
   "metadata": {},
   "source": [
    " Check whether the data is balanced/imbalanced"
   ]
  },
  {
   "cell_type": "code",
   "execution_count": 15,
   "metadata": {},
   "outputs": [],
   "source": [
    "Stroke_1 = data[data['stroke']==1]\n",
    "\n",
    "Stroke_0 = data[data['stroke']==0]"
   ]
  },
  {
   "cell_type": "code",
   "execution_count": 16,
   "metadata": {},
   "outputs": [
    {
     "name": "stdout",
     "output_type": "stream",
     "text": [
      "(783, 12) (42617, 12)\n"
     ]
    }
   ],
   "source": [
    "print(Stroke_1.shape,Stroke_0.shape)"
   ]
  },
  {
   "cell_type": "markdown",
   "metadata": {},
   "source": [
    "Converting the imbalanced data into balanced data using imblearn's \"SMOTETomek\"."
   ]
  },
  {
   "cell_type": "code",
   "execution_count": 17,
   "metadata": {},
   "outputs": [
    {
     "name": "stderr",
     "output_type": "stream",
     "text": [
      "Using TensorFlow backend.\n"
     ]
    }
   ],
   "source": [
    "from imblearn.combine import SMOTETomek\n",
    "smk = SMOTETomek(random_state=42)\n",
    "\n",
    "feat_res,labels_res = smk.fit_sample(data_prepared,data_labels)"
   ]
  },
  {
   "cell_type": "code",
   "execution_count": 18,
   "metadata": {},
   "outputs": [
    {
     "data": {
      "text/plain": [
       "((84588, 19), (84588,))"
      ]
     },
     "execution_count": 18,
     "metadata": {},
     "output_type": "execute_result"
    }
   ],
   "source": [
    "feat_res.shape,labels_res.shape"
   ]
  },
  {
   "cell_type": "code",
   "execution_count": 19,
   "metadata": {},
   "outputs": [
    {
     "name": "stdout",
     "output_type": "stream",
     "text": [
      "Original Dataset Shape Counter({0: 42617, 1: 783})\n",
      "Resampled Dataset Shape Counter({0: 42294, 1: 42294})\n"
     ]
    }
   ],
   "source": [
    "from collections import Counter\n",
    "print('Original Dataset Shape {}'.format(Counter(data_labels)))\n",
    "\n",
    "print('Resampled Dataset Shape {}'.format(Counter(labels_res)))"
   ]
  },
  {
   "cell_type": "markdown",
   "metadata": {},
   "source": [
    "# Select and train a model"
   ]
  },
  {
   "cell_type": "markdown",
   "metadata": {},
   "source": [
    "I compared 9 popular classifiers and evaluate the mean accuracy of each of them using a stratified kfold cross validation procedure.\n",
    "\n",
    ". Logistic regression\n",
    "\n",
    ". Linear Discriminant Analysis\n",
    "\n",
    ". KNN\n",
    "\n",
    ". SVM\n",
    "\n",
    ". Decision Tree\n",
    "\n",
    ". Random Forest\n",
    "\n",
    ". AdaBoost\n",
    "\n",
    ". Gradient Boosting \n",
    "\n",
    ". Neural Network (Multiple layer perceptron)"
   ]
  },
  {
   "cell_type": "code",
   "execution_count": 20,
   "metadata": {},
   "outputs": [],
   "source": [
    "#Common Model Algorithms\n",
    "from sklearn.linear_model import LogisticRegression\n",
    "from sklearn.discriminant_analysis import LinearDiscriminantAnalysis\n",
    "from sklearn.neighbors import KNeighborsClassifier\n",
    "from sklearn.svm import SVC\n",
    "from sklearn.tree import DecisionTreeClassifier\n",
    "from sklearn.ensemble import RandomForestClassifier, AdaBoostClassifier, GradientBoostingClassifier, VotingClassifier\n",
    "from sklearn.neural_network import MLPClassifier\n",
    "\n",
    "#Common Model Helpers\n",
    "from sklearn.model_selection import GridSearchCV,RandomizedSearchCV,cross_val_score, StratifiedKFold, learning_curve, cross_validate"
   ]
  },
  {
   "cell_type": "code",
   "execution_count": 21,
   "metadata": {},
   "outputs": [],
   "source": [
    "#Cross validate model with Kfold stratified cross val\n",
    "kfold = StratifiedKFold(n_splits=5)"
   ]
  },
  {
   "cell_type": "code",
   "execution_count": 22,
   "metadata": {},
   "outputs": [
    {
     "data": {
      "text/html": [
       "<div>\n",
       "<style scoped>\n",
       "    .dataframe tbody tr th:only-of-type {\n",
       "        vertical-align: middle;\n",
       "    }\n",
       "\n",
       "    .dataframe tbody tr th {\n",
       "        vertical-align: top;\n",
       "    }\n",
       "\n",
       "    .dataframe thead th {\n",
       "        text-align: right;\n",
       "    }\n",
       "</style>\n",
       "<table border=\"1\" class=\"dataframe\">\n",
       "  <thead>\n",
       "    <tr style=\"text-align: right;\">\n",
       "      <th></th>\n",
       "      <th>CLF Name</th>\n",
       "      <th>CLF Parameters</th>\n",
       "      <th>CLF Test Accuracy Mean</th>\n",
       "      <th>CLF Test Accuracy STD</th>\n",
       "    </tr>\n",
       "  </thead>\n",
       "  <tbody>\n",
       "    <tr>\n",
       "      <th>4</th>\n",
       "      <td>DecisionTreeClassifier</td>\n",
       "      <td>{'ccp_alpha': 0.0, 'class_weight': None, 'crit...</td>\n",
       "      <td>0.971013</td>\n",
       "      <td>0.0107439</td>\n",
       "    </tr>\n",
       "    <tr>\n",
       "      <th>6</th>\n",
       "      <td>AdaBoostClassifier</td>\n",
       "      <td>{'algorithm': 'SAMME.R', 'base_estimator__ccp_...</td>\n",
       "      <td>0.970953</td>\n",
       "      <td>0.0104531</td>\n",
       "    </tr>\n",
       "    <tr>\n",
       "      <th>5</th>\n",
       "      <td>RandomForestClassifier</td>\n",
       "      <td>{'bootstrap': True, 'ccp_alpha': 0.0, 'class_w...</td>\n",
       "      <td>0.969086</td>\n",
       "      <td>0.00446866</td>\n",
       "    </tr>\n",
       "    <tr>\n",
       "      <th>2</th>\n",
       "      <td>KNeighborsClassifier</td>\n",
       "      <td>{'algorithm': 'auto', 'leaf_size': 30, 'metric...</td>\n",
       "      <td>0.935795</td>\n",
       "      <td>0.00244537</td>\n",
       "    </tr>\n",
       "    <tr>\n",
       "      <th>8</th>\n",
       "      <td>MLPClassifier</td>\n",
       "      <td>{'activation': 'relu', 'alpha': 0.0001, 'batch...</td>\n",
       "      <td>0.903213</td>\n",
       "      <td>0.00322706</td>\n",
       "    </tr>\n",
       "    <tr>\n",
       "      <th>7</th>\n",
       "      <td>GradientBoostingClassifier</td>\n",
       "      <td>{'ccp_alpha': 0.0, 'criterion': 'friedman_mse'...</td>\n",
       "      <td>0.861635</td>\n",
       "      <td>0.0042118</td>\n",
       "    </tr>\n",
       "    <tr>\n",
       "      <th>3</th>\n",
       "      <td>SVC</td>\n",
       "      <td>{'C': 1.0, 'break_ties': False, 'cache_size': ...</td>\n",
       "      <td>0.859862</td>\n",
       "      <td>0.00371043</td>\n",
       "    </tr>\n",
       "    <tr>\n",
       "      <th>0</th>\n",
       "      <td>LogisticRegression</td>\n",
       "      <td>{'C': 1.0, 'class_weight': None, 'dual': False...</td>\n",
       "      <td>0.793919</td>\n",
       "      <td>0.00150833</td>\n",
       "    </tr>\n",
       "    <tr>\n",
       "      <th>1</th>\n",
       "      <td>LinearDiscriminantAnalysis</td>\n",
       "      <td>{'n_components': None, 'priors': None, 'shrink...</td>\n",
       "      <td>0.793446</td>\n",
       "      <td>0.00155527</td>\n",
       "    </tr>\n",
       "  </tbody>\n",
       "</table>\n",
       "</div>"
      ],
      "text/plain": [
       "                     CLF Name  \\\n",
       "4      DecisionTreeClassifier   \n",
       "6          AdaBoostClassifier   \n",
       "5      RandomForestClassifier   \n",
       "2        KNeighborsClassifier   \n",
       "8               MLPClassifier   \n",
       "7  GradientBoostingClassifier   \n",
       "3                         SVC   \n",
       "0          LogisticRegression   \n",
       "1  LinearDiscriminantAnalysis   \n",
       "\n",
       "                                      CLF Parameters CLF Test Accuracy Mean  \\\n",
       "4  {'ccp_alpha': 0.0, 'class_weight': None, 'crit...               0.971013   \n",
       "6  {'algorithm': 'SAMME.R', 'base_estimator__ccp_...               0.970953   \n",
       "5  {'bootstrap': True, 'ccp_alpha': 0.0, 'class_w...               0.969086   \n",
       "2  {'algorithm': 'auto', 'leaf_size': 30, 'metric...               0.935795   \n",
       "8  {'activation': 'relu', 'alpha': 0.0001, 'batch...               0.903213   \n",
       "7  {'ccp_alpha': 0.0, 'criterion': 'friedman_mse'...               0.861635   \n",
       "3  {'C': 1.0, 'break_ties': False, 'cache_size': ...               0.859862   \n",
       "0  {'C': 1.0, 'class_weight': None, 'dual': False...               0.793919   \n",
       "1  {'n_components': None, 'priors': None, 'shrink...               0.793446   \n",
       "\n",
       "  CLF Test Accuracy STD  \n",
       "4             0.0107439  \n",
       "6             0.0104531  \n",
       "5            0.00446866  \n",
       "2            0.00244537  \n",
       "8            0.00322706  \n",
       "7             0.0042118  \n",
       "3            0.00371043  \n",
       "0            0.00150833  \n",
       "1            0.00155527  "
      ]
     },
     "execution_count": 22,
     "metadata": {},
     "output_type": "execute_result"
    }
   ],
   "source": [
    "#Initialize different algorithms with default parameters\n",
    "random_state = 2\n",
    "classifiers = [\n",
    "              LogisticRegression(random_state = random_state),\n",
    "              LinearDiscriminantAnalysis(),\n",
    "              KNeighborsClassifier(),\n",
    "              SVC(random_state=random_state),\n",
    "              DecisionTreeClassifier(random_state=random_state),\n",
    "              RandomForestClassifier(random_state=random_state),\n",
    "              AdaBoostClassifier(DecisionTreeClassifier(random_state=random_state),random_state=random_state,learning_rate=0.1),\n",
    "              GradientBoostingClassifier(random_state=random_state),\n",
    "              MLPClassifier(random_state=random_state)\n",
    "              ]\n",
    "\n",
    "# save the cross-validation results\n",
    "#create table to compare MLA metrics\n",
    "res_columns = ['CLF Name', 'CLF Parameters','CLF Test Accuracy Mean', 'CLF Test Accuracy STD']\n",
    "res_compare = pd.DataFrame(columns = res_columns)\n",
    "\n",
    "row_index = 0\n",
    "for CLF in classifiers:\n",
    "    CLF_name = CLF.__class__.__name__\n",
    "    res_compare.loc[row_index, 'CLF Name'] = CLF_name\n",
    "    res_compare.loc[row_index, 'CLF Parameters'] = str(CLF.get_params())\n",
    "    cv_result = cross_val_score(CLF, feat_res,labels_res, scoring = \"accuracy\", cv = kfold, n_jobs=2)\n",
    "    \n",
    "    res_compare.loc[row_index, 'CLF Test Accuracy Mean'] = cv_result.mean() \n",
    "    res_compare.loc[row_index, 'CLF Test Accuracy STD'] = cv_result.std()\n",
    "    \n",
    "    row_index+=1\n",
    "    \n",
    "res_compare.sort_values(by = ['CLF Test Accuracy Mean'], ascending = False, inplace = True)\n",
    "res_compare"
   ]
  },
  {
   "cell_type": "code",
   "execution_count": 23,
   "metadata": {},
   "outputs": [
    {
     "data": {
      "text/plain": [
       "<matplotlib.axes._subplots.AxesSubplot at 0x2e2aacca5c0>"
      ]
     },
     "execution_count": 23,
     "metadata": {},
     "output_type": "execute_result"
    },
    {
     "data": {
      "image/png": "[encoded data removed]",
      "text/plain": [
       "<Figure size 432x288 with 1 Axes>"
      ]
     },
     "metadata": {
      "needs_background": "light"
     },
     "output_type": "display_data"
    }
   ],
   "source": [
    "sns.barplot(x='CLF Test Accuracy Mean', y='CLF Name', data= res_compare, palette= 'Set3')"
   ]
  },
  {
   "cell_type": "markdown",
   "metadata": {},
   "source": [
    "# Fine-tune the selected models"
   ]
  },
  {
   "cell_type": "markdown",
   "metadata": {},
   "source": [
    "Let's perform a random search optimization for AdaBoost,RandomForest,GradientBoosting and SVC classifiers."
   ]
  },
  {
   "cell_type": "code",
   "execution_count": 24,
   "metadata": {},
   "outputs": [
    {
     "name": "stdout",
     "output_type": "stream",
     "text": [
      "Fitting 5 folds for each of 10 candidates, totalling 50 fits\n"
     ]
    },
    {
     "name": "stderr",
     "output_type": "stream",
     "text": [
      "[Parallel(n_jobs=-1)]: Using backend LokyBackend with 8 concurrent workers.\n",
      "[Parallel(n_jobs=-1)]: Done  34 tasks      | elapsed:   13.2s\n",
      "[Parallel(n_jobs=-1)]: Done  50 out of  50 | elapsed:   17.1s finished\n"
     ]
    },
    {
     "data": {
      "text/plain": [
       "{'n_estimators': 30,\n",
       " 'learning_rate': 0.1,\n",
       " 'base_estimator__splitter': 'best',\n",
       " 'base_estimator__criterion': 'entropy'}"
      ]
     },
     "execution_count": 24,
     "metadata": {},
     "output_type": "execute_result"
    }
   ],
   "source": [
    "# Adaboost\n",
    "\n",
    "DTC = DecisionTreeClassifier()\n",
    "\n",
    "adaDTC = AdaBoostClassifier(DTC, random_state=2)\n",
    "\n",
    "ada_param = [{\n",
    "    \"base_estimator__criterion\" : [\"gini\", \"entropy\"],\n",
    "    \"base_estimator__splitter\" :   [\"best\", \"random\"],\n",
    "    \"n_estimators\" :[30,100,300],\n",
    "    \"learning_rate\":  [0.01, 0.03, 0.1, 0.3]\n",
    "}]\n",
    "\n",
    "rs_adaDTC = RandomizedSearchCV(adaDTC,param_distributions = ada_param, cv=kfold, scoring=\"accuracy\", n_jobs= -1, verbose = 1)\n",
    "\n",
    "rs_adaDTC.fit(feat_res,labels_res)\n",
    "rs_adaDTC.best_params_"
   ]
  },
  {
   "cell_type": "code",
   "execution_count": 25,
   "metadata": {},
   "outputs": [
    {
     "name": "stdout",
     "output_type": "stream",
     "text": [
      "Fitting 5 folds for each of 10 candidates, totalling 50 fits\n"
     ]
    },
    {
     "name": "stderr",
     "output_type": "stream",
     "text": [
      "[Parallel(n_jobs=-1)]: Using backend LokyBackend with 8 concurrent workers.\n",
      "[Parallel(n_jobs=-1)]: Done  34 tasks      | elapsed:  8.4min\n",
      "[Parallel(n_jobs=-1)]: Done  50 out of  50 | elapsed: 12.2min finished\n"
     ]
    },
    {
     "data": {
      "text/plain": [
       "{'n_estimators': 100,\n",
       " 'min_samples_split': 5,\n",
       " 'min_samples_leaf': 1,\n",
       " 'max_features': 'auto',\n",
       " 'max_depth': 50,\n",
       " 'criterion': 'gini',\n",
       " 'bootstrap': False}"
      ]
     },
     "execution_count": 25,
     "metadata": {},
     "output_type": "execute_result"
    }
   ],
   "source": [
    "# Random Forest\n",
    "\n",
    "RFC = RandomForestClassifier()\n",
    "\n",
    "rf_param = [\n",
    "    {\"bootstrap\": [True,False],\n",
    "     'n_estimators':[100,300,500],\n",
    "     'max_features' :['auto', 'sqrt'],\n",
    "     'min_samples_leaf': [1, 2, 4],\n",
    "     'min_samples_split': [2, 5, 10],\n",
    "    'max_depth': [10,20,30,40,50],\n",
    "    'criterion': ['gini','entropy']}\n",
    "]\n",
    "\n",
    "rs_RFC = RandomizedSearchCV(RFC,param_distributions = rf_param, cv=kfold, scoring=\"accuracy\", n_jobs= -1, verbose = 1)\n",
    "\n",
    "rs_RFC.fit(feat_res,labels_res)\n",
    "rs_RFC.best_params_"
   ]
  },
  {
   "cell_type": "code",
   "execution_count": 26,
   "metadata": {},
   "outputs": [
    {
     "name": "stdout",
     "output_type": "stream",
     "text": [
      "Fitting 5 folds for each of 10 candidates, totalling 50 fits\n"
     ]
    },
    {
     "name": "stderr",
     "output_type": "stream",
     "text": [
      "[Parallel(n_jobs=-1)]: Using backend LokyBackend with 8 concurrent workers.\n",
      "[Parallel(n_jobs=-1)]: Done  34 tasks      | elapsed: 11.9min\n",
      "[Parallel(n_jobs=-1)]: Done  50 out of  50 | elapsed: 27.0min finished\n"
     ]
    },
    {
     "data": {
      "text/plain": [
       "{'n_estimators': 300,\n",
       " 'min_samples_split': 10,\n",
       " 'min_samples_leaf': 6,\n",
       " 'max_features': 'auto',\n",
       " 'max_depth': 20,\n",
       " 'learning_rate': 0.03}"
      ]
     },
     "execution_count": 26,
     "metadata": {},
     "output_type": "execute_result"
    }
   ],
   "source": [
    "# Gradient boosting\n",
    "\n",
    "GBC = GradientBoostingClassifier()\n",
    "gb_param = [{\n",
    "              'n_estimators' : [30,100,300],\n",
    "              'learning_rate': [0.01, 0.03, 0.1],\n",
    "              'max_depth': [10,20,30,40,50],\n",
    "              'min_samples_split': [2, 5, 10],\n",
    "              'max_features' :['auto', 'sqrt'],\n",
    "              'min_samples_leaf': [1, 2, 4, 6]\n",
    "              }]\n",
    "\n",
    "rs_GBC = RandomizedSearchCV(GBC,param_distributions = gb_param, cv=kfold, scoring=\"accuracy\", n_jobs= -1, verbose = 1)\n",
    "\n",
    "rs_GBC.fit(feat_res,labels_res)\n",
    "rs_GBC.best_params_"
   ]
  },
  {
   "cell_type": "markdown",
   "metadata": {},
   "source": [
    "# Plot  the learning curve"
   ]
  },
  {
   "cell_type": "markdown",
   "metadata": {},
   "source": [
    "Let's plot the learning curve to see accuracy score against training size.It's a good way to see the overfitting effect."
   ]
  },
  {
   "cell_type": "code",
   "execution_count": 27,
   "metadata": {},
   "outputs": [],
   "source": [
    "def plot_learning_curve(estimator, title, X, y, ylim=None, cv=None,\n",
    "                        n_jobs=-1, train_sizes=np.linspace(.1, 1.0, 5)):\n",
    "    \"\"\"generate training and testing dataset training curve.\"\"\"\n",
    "    plt.figure()\n",
    "    plt.title(title)\n",
    "    if ylim is not None:\n",
    "        plt.ylim(*ylim)\n",
    "    plt.xlabel(\"the size of Training set\")\n",
    "    plt.ylabel(\"Score\")\n",
    "    train_sizes, train_scores, test_scores = learning_curve(\n",
    "        estimator, X, y, cv=cv, n_jobs=n_jobs, train_sizes=train_sizes)\n",
    "    train_scores_mean = np.mean(train_scores, axis=1)\n",
    "    \n",
    "    test_scores_mean = np.mean(test_scores, axis=1)\n",
    "   \n",
    "    plt.grid()\n",
    "    \n",
    "    plt.plot(train_sizes, train_scores_mean, 'o-', color=\"r\",label=\"Training score\")\n",
    "    plt.plot(train_sizes, test_scores_mean, 'o-', color=\"g\",label=\"Cross-validation score\")\n",
    "    \n",
    "    \n",
    "    plt.legend(loc=\"best\")\n",
    "    return"
   ]
  },
  {
   "cell_type": "code",
   "execution_count": 28,
   "metadata": {},
   "outputs": [],
   "source": [
    "RFC_best = rs_RFC.best_estimator_\n",
    "\n",
    "ada_best = rs_adaDTC.best_estimator_\n",
    "\n",
    "GBC_best = rs_GBC.best_estimator_"
   ]
  },
  {
   "cell_type": "code",
   "execution_count": 29,
   "metadata": {},
   "outputs": [
    {
     "data": {
      "image/png": "[encoded data removed]",
      "text/plain": [
       "<Figure size 432x288 with 1 Axes>"
      ]
     },
     "metadata": {
      "needs_background": "light"
     },
     "output_type": "display_data"
    },
    {
     "data": {
      "image/png": "[encoded data removed]",
      "text/plain": [
       "<Figure size 432x288 with 1 Axes>"
      ]
     },
     "metadata": {
      "needs_background": "light"
     },
     "output_type": "display_data"
    },
    {
     "data": {
      "image/png": "[encoded data removed]",
      "text/plain": [
       "<Figure size 432x288 with 1 Axes>"
      ]
     },
     "metadata": {
      "needs_background": "light"
     },
     "output_type": "display_data"
    }
   ],
   "source": [
    "g = plot_learning_curve(RFC_best,\"RF learning curves\",feat_res,labels_res,cv=kfold)\n",
    "\n",
    "g = plot_learning_curve(ada_best,\"AdaBoost learning curves\",feat_res,labels_res,cv=kfold)\n",
    "\n",
    "g = plot_learning_curve(GBC_best,\"GradientBoosting learning curves\",feat_res,labels_res,cv=kfold)"
   ]
  },
  {
   "cell_type": "markdown",
   "metadata": {},
   "source": [
    "Higher the score(y-axis), better the model's performance.\n",
    "\n",
    "1 . Training score (red line) of all the models is at its's maximum regardless of training examples. This shows severe overfitting in all the models.\n",
    "    \n",
    "2 . Cross validation score (green line) increases over time.\n",
    "\n",
    "3 . Huge gap between cross-validation score & training score (GradientBoosting) indicates high variance scenario. Reduce complexity of the model or gather more data.\n",
    "    \n",
    "4 . Random Forest & AdaBoost classifier seems generalize better prediction since the training & testing cross-validation learning curve are close to each other."
   ]
  },
  {
   "cell_type": "markdown",
   "metadata": {},
   "source": [
    "# Ensemble or Stack the models"
   ]
  },
  {
   "cell_type": "markdown",
   "metadata": {},
   "source": [
    "Let's use a voting classifier to combine the predictions coming from the 5 classifiers."
   ]
  },
  {
   "cell_type": "code",
   "execution_count": 43,
   "metadata": {},
   "outputs": [],
   "source": [
    "labels = ['Random Forest', 'Ada Boost', 'Gradient Boost', 'Voting Classifier']\n",
    "\n",
    "votingC = VotingClassifier(estimators=[('rfc',RFC_best),('adac',ada_best),('gbc',GBC_best)], voting='hard', n_jobs=-1)\n",
    "\n",
    "votingC = votingC.fit(feat_res,labels_res)"
   ]
  },
  {
   "cell_type": "code",
   "execution_count": 44,
   "metadata": {},
   "outputs": [
    {
     "name": "stdout",
     "output_type": "stream",
     "text": [
      "(Accuracy: 0.97191) (STD:  0.00545) [Random Forest]\n",
      "(Accuracy: 0.97506) (STD:  0.01150) [Ada Boost]\n",
      "(Accuracy: 0.98776) (STD:  0.01408) [Gradient Boost]\n",
      "(Accuracy: 0.98675) (STD:  0.01324) [Voting Classifier]\n"
     ]
    }
   ],
   "source": [
    "for clf, label in zip([RFC_best, ada_best, GBC_best, votingC], labels):\n",
    "    \n",
    "    scores = cross_val_score(clf,feat_res,labels_res, cv=kfold, scoring = 'accuracy')\n",
    "    print('(Accuracy: %0.5f) (STD: % 0.5f) [%s]' % (scores.mean(), scores.std(), label))"
   ]
  }
 ],
 "metadata": {
  "kernelspec": {
   "display_name": "Python 3",
   "language": "python",
   "name": "python3"
  },
  "language_info": {
   "codemirror_mode": {
    "name": "ipython",
    "version": 3
   },
   "file_extension": ".py",
   "mimetype": "text/x-python",
   "name": "python",
   "nbconvert_exporter": "python",
   "pygments_lexer": "ipython3",
   "version": "3.7.3"
  }
 },
 "nbformat": 4,
 "nbformat_minor": 2
}
